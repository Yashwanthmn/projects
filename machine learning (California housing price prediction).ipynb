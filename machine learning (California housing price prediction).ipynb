{
 "cells": [
  {
   "cell_type": "code",
   "execution_count": 72,
   "metadata": {},
   "outputs": [],
   "source": [
    "import pandas as pd\n",
    "import numpy as np\n",
    "import matplotlib.pyplot as plt\n",
    "import seaborn as sns\n",
    "%matplotlib inline"
   ]
  },
  {
   "cell_type": "code",
   "execution_count": 46,
   "metadata": {},
   "outputs": [],
   "source": [
    "data = pd.read_csv('housing.csv')"
   ]
  },
  {
   "cell_type": "code",
   "execution_count": 47,
   "metadata": {},
   "outputs": [
    {
     "data": {
      "text/html": [
       "<div>\n",
       "<style scoped>\n",
       "    .dataframe tbody tr th:only-of-type {\n",
       "        vertical-align: middle;\n",
       "    }\n",
       "\n",
       "    .dataframe tbody tr th {\n",
       "        vertical-align: top;\n",
       "    }\n",
       "\n",
       "    .dataframe thead th {\n",
       "        text-align: right;\n",
       "    }\n",
       "</style>\n",
       "<table border=\"1\" class=\"dataframe\">\n",
       "  <thead>\n",
       "    <tr style=\"text-align: right;\">\n",
       "      <th></th>\n",
       "      <th>longitude</th>\n",
       "      <th>latitude</th>\n",
       "      <th>housing_median_age</th>\n",
       "      <th>total_rooms</th>\n",
       "      <th>total_bedrooms</th>\n",
       "      <th>population</th>\n",
       "      <th>households</th>\n",
       "      <th>median_income</th>\n",
       "      <th>ocean_proximity</th>\n",
       "      <th>median_house_value</th>\n",
       "    </tr>\n",
       "  </thead>\n",
       "  <tbody>\n",
       "    <tr>\n",
       "      <th>0</th>\n",
       "      <td>-122.23</td>\n",
       "      <td>37.88</td>\n",
       "      <td>41</td>\n",
       "      <td>880</td>\n",
       "      <td>129.0</td>\n",
       "      <td>322</td>\n",
       "      <td>126</td>\n",
       "      <td>8.3252</td>\n",
       "      <td>NEAR BAY</td>\n",
       "      <td>452600</td>\n",
       "    </tr>\n",
       "    <tr>\n",
       "      <th>1</th>\n",
       "      <td>-122.22</td>\n",
       "      <td>37.86</td>\n",
       "      <td>21</td>\n",
       "      <td>7099</td>\n",
       "      <td>1106.0</td>\n",
       "      <td>2401</td>\n",
       "      <td>1138</td>\n",
       "      <td>8.3014</td>\n",
       "      <td>NEAR BAY</td>\n",
       "      <td>358500</td>\n",
       "    </tr>\n",
       "    <tr>\n",
       "      <th>2</th>\n",
       "      <td>-122.24</td>\n",
       "      <td>37.85</td>\n",
       "      <td>52</td>\n",
       "      <td>1467</td>\n",
       "      <td>190.0</td>\n",
       "      <td>496</td>\n",
       "      <td>177</td>\n",
       "      <td>7.2574</td>\n",
       "      <td>NEAR BAY</td>\n",
       "      <td>352100</td>\n",
       "    </tr>\n",
       "    <tr>\n",
       "      <th>3</th>\n",
       "      <td>-122.25</td>\n",
       "      <td>37.85</td>\n",
       "      <td>52</td>\n",
       "      <td>1274</td>\n",
       "      <td>235.0</td>\n",
       "      <td>558</td>\n",
       "      <td>219</td>\n",
       "      <td>5.6431</td>\n",
       "      <td>NEAR BAY</td>\n",
       "      <td>341300</td>\n",
       "    </tr>\n",
       "    <tr>\n",
       "      <th>4</th>\n",
       "      <td>-122.25</td>\n",
       "      <td>37.85</td>\n",
       "      <td>52</td>\n",
       "      <td>1627</td>\n",
       "      <td>280.0</td>\n",
       "      <td>565</td>\n",
       "      <td>259</td>\n",
       "      <td>3.8462</td>\n",
       "      <td>NEAR BAY</td>\n",
       "      <td>342200</td>\n",
       "    </tr>\n",
       "  </tbody>\n",
       "</table>\n",
       "</div>"
      ],
      "text/plain": [
       "   longitude  latitude  housing_median_age  total_rooms  total_bedrooms  \\\n",
       "0    -122.23     37.88                  41          880           129.0   \n",
       "1    -122.22     37.86                  21         7099          1106.0   \n",
       "2    -122.24     37.85                  52         1467           190.0   \n",
       "3    -122.25     37.85                  52         1274           235.0   \n",
       "4    -122.25     37.85                  52         1627           280.0   \n",
       "\n",
       "   population  households  median_income ocean_proximity  median_house_value  \n",
       "0         322         126         8.3252        NEAR BAY              452600  \n",
       "1        2401        1138         8.3014        NEAR BAY              358500  \n",
       "2         496         177         7.2574        NEAR BAY              352100  \n",
       "3         558         219         5.6431        NEAR BAY              341300  \n",
       "4         565         259         3.8462        NEAR BAY              342200  "
      ]
     },
     "execution_count": 47,
     "metadata": {},
     "output_type": "execute_result"
    }
   ],
   "source": [
    "data.head()"
   ]
  },
  {
   "cell_type": "code",
   "execution_count": 48,
   "metadata": {},
   "outputs": [
    {
     "data": {
      "text/plain": [
       "longitude               0\n",
       "latitude                0\n",
       "housing_median_age      0\n",
       "total_rooms             0\n",
       "total_bedrooms        207\n",
       "population              0\n",
       "households              0\n",
       "median_income           0\n",
       "ocean_proximity         0\n",
       "median_house_value      0\n",
       "dtype: int64"
      ]
     },
     "execution_count": 48,
     "metadata": {},
     "output_type": "execute_result"
    }
   ],
   "source": [
    "data.isnull().sum()"
   ]
  },
  {
   "cell_type": "code",
   "execution_count": 49,
   "metadata": {},
   "outputs": [],
   "source": [
    "total_bedroms = data[data[\"total_bedrooms\"].notnull()][\"total_bedrooms\"]"
   ]
  },
  {
   "cell_type": "code",
   "execution_count": 50,
   "metadata": {},
   "outputs": [
    {
     "name": "stdout",
     "output_type": "stream",
     "text": [
      "   total_bedrooms\n",
      "0           129.0\n",
      "1          1106.0\n",
      "2           190.0\n",
      "3           235.0\n",
      "4           280.0\n"
     ]
    },
    {
     "name": "stderr",
     "output_type": "stream",
     "text": [
      "C:\\Users\\yashg\\Anaconda3\\lib\\site-packages\\sklearn\\utils\\deprecation.py:58: DeprecationWarning: Class Imputer is deprecated; Imputer was deprecated in version 0.20 and will be removed in 0.22. Import impute.SimpleImputer from sklearn instead.\n",
      "  warnings.warn(msg, category=DeprecationWarning)\n"
     ]
    },
    {
     "data": {
      "text/plain": [
       "longitude             0\n",
       "latitude              0\n",
       "housing_median_age    0\n",
       "total_rooms           0\n",
       "total_bedrooms        0\n",
       "population            0\n",
       "households            0\n",
       "median_income         0\n",
       "ocean_proximity       0\n",
       "median_house_value    0\n",
       "dtype: int64"
      ]
     },
     "execution_count": 50,
     "metadata": {},
     "output_type": "execute_result"
    }
   ],
   "source": [
    "print(data.iloc[:,4:5].head())\n",
    "#Filling the missing values with the mean of the respective column\n",
    "from sklearn.preprocessing import Imputer\n",
    "imputer = Imputer(np.nan,strategy =\"mean\")\n",
    "imputer.fit(data.iloc[:,4:5])\n",
    "data.iloc[:,4:5] = imputer.transform(data.iloc[:,4:5])\n",
    "data.isnull().sum()"
   ]
  },
  {
   "cell_type": "code",
   "execution_count": 51,
   "metadata": {},
   "outputs": [
    {
     "data": {
      "text/html": [
       "<div>\n",
       "<style scoped>\n",
       "    .dataframe tbody tr th:only-of-type {\n",
       "        vertical-align: middle;\n",
       "    }\n",
       "\n",
       "    .dataframe tbody tr th {\n",
       "        vertical-align: top;\n",
       "    }\n",
       "\n",
       "    .dataframe thead th {\n",
       "        text-align: right;\n",
       "    }\n",
       "</style>\n",
       "<table border=\"1\" class=\"dataframe\">\n",
       "  <thead>\n",
       "    <tr style=\"text-align: right;\">\n",
       "      <th></th>\n",
       "      <th>longitude</th>\n",
       "      <th>latitude</th>\n",
       "      <th>housing_median_age</th>\n",
       "      <th>total_rooms</th>\n",
       "      <th>total_bedrooms</th>\n",
       "      <th>population</th>\n",
       "      <th>households</th>\n",
       "      <th>median_income</th>\n",
       "      <th>median_house_value</th>\n",
       "    </tr>\n",
       "  </thead>\n",
       "  <tbody>\n",
       "    <tr>\n",
       "      <th>count</th>\n",
       "      <td>20640.000000</td>\n",
       "      <td>20640.000000</td>\n",
       "      <td>20640.000000</td>\n",
       "      <td>20640.000000</td>\n",
       "      <td>20640.000000</td>\n",
       "      <td>20640.000000</td>\n",
       "      <td>20640.000000</td>\n",
       "      <td>20640.000000</td>\n",
       "      <td>20640.000000</td>\n",
       "    </tr>\n",
       "    <tr>\n",
       "      <th>mean</th>\n",
       "      <td>-119.569704</td>\n",
       "      <td>35.631861</td>\n",
       "      <td>28.639486</td>\n",
       "      <td>2635.763081</td>\n",
       "      <td>537.870553</td>\n",
       "      <td>1425.476744</td>\n",
       "      <td>499.539680</td>\n",
       "      <td>3.870671</td>\n",
       "      <td>206855.816909</td>\n",
       "    </tr>\n",
       "    <tr>\n",
       "      <th>std</th>\n",
       "      <td>2.003532</td>\n",
       "      <td>2.135952</td>\n",
       "      <td>12.585558</td>\n",
       "      <td>2181.615252</td>\n",
       "      <td>419.266592</td>\n",
       "      <td>1132.462122</td>\n",
       "      <td>382.329753</td>\n",
       "      <td>1.899822</td>\n",
       "      <td>115395.615874</td>\n",
       "    </tr>\n",
       "    <tr>\n",
       "      <th>min</th>\n",
       "      <td>-124.350000</td>\n",
       "      <td>32.540000</td>\n",
       "      <td>1.000000</td>\n",
       "      <td>2.000000</td>\n",
       "      <td>1.000000</td>\n",
       "      <td>3.000000</td>\n",
       "      <td>1.000000</td>\n",
       "      <td>0.499900</td>\n",
       "      <td>14999.000000</td>\n",
       "    </tr>\n",
       "    <tr>\n",
       "      <th>25%</th>\n",
       "      <td>-121.800000</td>\n",
       "      <td>33.930000</td>\n",
       "      <td>18.000000</td>\n",
       "      <td>1447.750000</td>\n",
       "      <td>297.000000</td>\n",
       "      <td>787.000000</td>\n",
       "      <td>280.000000</td>\n",
       "      <td>2.563400</td>\n",
       "      <td>119600.000000</td>\n",
       "    </tr>\n",
       "    <tr>\n",
       "      <th>50%</th>\n",
       "      <td>-118.490000</td>\n",
       "      <td>34.260000</td>\n",
       "      <td>29.000000</td>\n",
       "      <td>2127.000000</td>\n",
       "      <td>438.000000</td>\n",
       "      <td>1166.000000</td>\n",
       "      <td>409.000000</td>\n",
       "      <td>3.534800</td>\n",
       "      <td>179700.000000</td>\n",
       "    </tr>\n",
       "    <tr>\n",
       "      <th>75%</th>\n",
       "      <td>-118.010000</td>\n",
       "      <td>37.710000</td>\n",
       "      <td>37.000000</td>\n",
       "      <td>3148.000000</td>\n",
       "      <td>643.250000</td>\n",
       "      <td>1725.000000</td>\n",
       "      <td>605.000000</td>\n",
       "      <td>4.743250</td>\n",
       "      <td>264725.000000</td>\n",
       "    </tr>\n",
       "    <tr>\n",
       "      <th>max</th>\n",
       "      <td>-114.310000</td>\n",
       "      <td>41.950000</td>\n",
       "      <td>52.000000</td>\n",
       "      <td>39320.000000</td>\n",
       "      <td>6445.000000</td>\n",
       "      <td>35682.000000</td>\n",
       "      <td>6082.000000</td>\n",
       "      <td>15.000100</td>\n",
       "      <td>500001.000000</td>\n",
       "    </tr>\n",
       "  </tbody>\n",
       "</table>\n",
       "</div>"
      ],
      "text/plain": [
       "          longitude      latitude  housing_median_age   total_rooms  \\\n",
       "count  20640.000000  20640.000000        20640.000000  20640.000000   \n",
       "mean    -119.569704     35.631861           28.639486   2635.763081   \n",
       "std        2.003532      2.135952           12.585558   2181.615252   \n",
       "min     -124.350000     32.540000            1.000000      2.000000   \n",
       "25%     -121.800000     33.930000           18.000000   1447.750000   \n",
       "50%     -118.490000     34.260000           29.000000   2127.000000   \n",
       "75%     -118.010000     37.710000           37.000000   3148.000000   \n",
       "max     -114.310000     41.950000           52.000000  39320.000000   \n",
       "\n",
       "       total_bedrooms    population    households  median_income  \\\n",
       "count    20640.000000  20640.000000  20640.000000   20640.000000   \n",
       "mean       537.870553   1425.476744    499.539680       3.870671   \n",
       "std        419.266592   1132.462122    382.329753       1.899822   \n",
       "min          1.000000      3.000000      1.000000       0.499900   \n",
       "25%        297.000000    787.000000    280.000000       2.563400   \n",
       "50%        438.000000   1166.000000    409.000000       3.534800   \n",
       "75%        643.250000   1725.000000    605.000000       4.743250   \n",
       "max       6445.000000  35682.000000   6082.000000      15.000100   \n",
       "\n",
       "       median_house_value  \n",
       "count        20640.000000  \n",
       "mean        206855.816909  \n",
       "std         115395.615874  \n",
       "min          14999.000000  \n",
       "25%         119600.000000  \n",
       "50%         179700.000000  \n",
       "75%         264725.000000  \n",
       "max         500001.000000  "
      ]
     },
     "execution_count": 51,
     "metadata": {},
     "output_type": "execute_result"
    }
   ],
   "source": [
    "data.describe()"
   ]
  },
  {
   "cell_type": "code",
   "execution_count": 52,
   "metadata": {},
   "outputs": [
    {
     "data": {
      "image/png": "[encoded data removed]",
      "text/plain": [
       "<Figure size 1800x1800 with 9 Axes>"
      ]
     },
     "metadata": {
      "needs_background": "light"
     },
     "output_type": "display_data"
    }
   ],
   "source": [
    "data.hist(figsize=(25,25),bins=50);"
   ]
  },
  {
   "cell_type": "code",
   "execution_count": null,
   "metadata": {},
   "outputs": [],
   "source": []
  },
  {
   "cell_type": "code",
   "execution_count": 53,
   "metadata": {},
   "outputs": [
    {
     "data": {
      "text/html": [
       "<style  type=\"text/css\" >\n",
       "    #T_258776c6_da89_11e9_a6a8_04d3b084c91arow0_col0 {\n",
       "            background-color:  #023858;\n",
       "            color:  #f1f1f1;\n",
       "        }    #T_258776c6_da89_11e9_a6a8_04d3b084c91arow0_col1 {\n",
       "            background-color:  #fff7fb;\n",
       "            color:  #000000;\n",
       "        }    #T_258776c6_da89_11e9_a6a8_04d3b084c91arow0_col2 {\n",
       "            background-color:  #dfddec;\n",
       "            color:  #000000;\n",
       "        }    #T_258776c6_da89_11e9_a6a8_04d3b084c91arow0_col3 {\n",
       "            background-color:  #c0c9e2;\n",
       "            color:  #000000;\n",
       "        }    #T_258776c6_da89_11e9_a6a8_04d3b084c91arow0_col4 {\n",
       "            background-color:  #c1cae2;\n",
       "            color:  #000000;\n",
       "        }    #T_258776c6_da89_11e9_a6a8_04d3b084c91arow0_col5 {\n",
       "            background-color:  #bdc8e1;\n",
       "            color:  #000000;\n",
       "        }    #T_258776c6_da89_11e9_a6a8_04d3b084c91arow0_col6 {\n",
       "            background-color:  #c8cde4;\n",
       "            color:  #000000;\n",
       "        }    #T_258776c6_da89_11e9_a6a8_04d3b084c91arow0_col7 {\n",
       "            background-color:  #f1ebf5;\n",
       "            color:  #000000;\n",
       "        }    #T_258776c6_da89_11e9_a6a8_04d3b084c91arow0_col8 {\n",
       "            background-color:  #f2ecf5;\n",
       "            color:  #000000;\n",
       "        }    #T_258776c6_da89_11e9_a6a8_04d3b084c91arow1_col0 {\n",
       "            background-color:  #fff7fb;\n",
       "            color:  #000000;\n",
       "        }    #T_258776c6_da89_11e9_a6a8_04d3b084c91arow1_col1 {\n",
       "            background-color:  #023858;\n",
       "            color:  #f1f1f1;\n",
       "        }    #T_258776c6_da89_11e9_a6a8_04d3b084c91arow1_col2 {\n",
       "            background-color:  #c8cde4;\n",
       "            color:  #000000;\n",
       "        }    #T_258776c6_da89_11e9_a6a8_04d3b084c91arow1_col3 {\n",
       "            background-color:  #d2d3e7;\n",
       "            color:  #000000;\n",
       "        }    #T_258776c6_da89_11e9_a6a8_04d3b084c91arow1_col4 {\n",
       "            background-color:  #dedcec;\n",
       "            color:  #000000;\n",
       "        }    #T_258776c6_da89_11e9_a6a8_04d3b084c91arow1_col5 {\n",
       "            background-color:  #e7e3f0;\n",
       "            color:  #000000;\n",
       "        }    #T_258776c6_da89_11e9_a6a8_04d3b084c91arow1_col6 {\n",
       "            background-color:  #e0deed;\n",
       "            color:  #000000;\n",
       "        }    #T_258776c6_da89_11e9_a6a8_04d3b084c91arow1_col7 {\n",
       "            background-color:  #faf3f9;\n",
       "            color:  #000000;\n",
       "        }    #T_258776c6_da89_11e9_a6a8_04d3b084c91arow1_col8 {\n",
       "            background-color:  #fff7fb;\n",
       "            color:  #000000;\n",
       "        }    #T_258776c6_da89_11e9_a6a8_04d3b084c91arow2_col0 {\n",
       "            background-color:  #93b5d6;\n",
       "            color:  #000000;\n",
       "        }    #T_258776c6_da89_11e9_a6a8_04d3b084c91arow2_col1 {\n",
       "            background-color:  #79abd0;\n",
       "            color:  #000000;\n",
       "        }    #T_258776c6_da89_11e9_a6a8_04d3b084c91arow2_col2 {\n",
       "            background-color:  #023858;\n",
       "            color:  #f1f1f1;\n",
       "        }    #T_258776c6_da89_11e9_a6a8_04d3b084c91arow2_col3 {\n",
       "            background-color:  #fff7fb;\n",
       "            color:  #000000;\n",
       "        }    #T_258776c6_da89_11e9_a6a8_04d3b084c91arow2_col4 {\n",
       "            background-color:  #fff7fb;\n",
       "            color:  #000000;\n",
       "        }    #T_258776c6_da89_11e9_a6a8_04d3b084c91arow2_col5 {\n",
       "            background-color:  #fff7fb;\n",
       "            color:  #000000;\n",
       "        }    #T_258776c6_da89_11e9_a6a8_04d3b084c91arow2_col6 {\n",
       "            background-color:  #fff7fb;\n",
       "            color:  #000000;\n",
       "        }    #T_258776c6_da89_11e9_a6a8_04d3b084c91arow2_col7 {\n",
       "            background-color:  #fff7fb;\n",
       "            color:  #000000;\n",
       "        }    #T_258776c6_da89_11e9_a6a8_04d3b084c91arow2_col8 {\n",
       "            background-color:  #d8d7e9;\n",
       "            color:  #000000;\n",
       "        }    #T_258776c6_da89_11e9_a6a8_04d3b084c91arow3_col0 {\n",
       "            background-color:  #73a9cf;\n",
       "            color:  #000000;\n",
       "        }    #T_258776c6_da89_11e9_a6a8_04d3b084c91arow3_col1 {\n",
       "            background-color:  #83afd3;\n",
       "            color:  #000000;\n",
       "        }    #T_258776c6_da89_11e9_a6a8_04d3b084c91arow3_col2 {\n",
       "            background-color:  #fff7fb;\n",
       "            color:  #000000;\n",
       "        }    #T_258776c6_da89_11e9_a6a8_04d3b084c91arow3_col3 {\n",
       "            background-color:  #023858;\n",
       "            color:  #f1f1f1;\n",
       "        }    #T_258776c6_da89_11e9_a6a8_04d3b084c91arow3_col4 {\n",
       "            background-color:  #03476f;\n",
       "            color:  #f1f1f1;\n",
       "        }    #T_258776c6_da89_11e9_a6a8_04d3b084c91arow3_col5 {\n",
       "            background-color:  #045687;\n",
       "            color:  #f1f1f1;\n",
       "        }    #T_258776c6_da89_11e9_a6a8_04d3b084c91arow3_col6 {\n",
       "            background-color:  #034973;\n",
       "            color:  #f1f1f1;\n",
       "        }    #T_258776c6_da89_11e9_a6a8_04d3b084c91arow3_col7 {\n",
       "            background-color:  #c5cce3;\n",
       "            color:  #000000;\n",
       "        }    #T_258776c6_da89_11e9_a6a8_04d3b084c91arow3_col8 {\n",
       "            background-color:  #d2d2e7;\n",
       "            color:  #000000;\n",
       "        }    #T_258776c6_da89_11e9_a6a8_04d3b084c91arow4_col0 {\n",
       "            background-color:  #6ba5cd;\n",
       "            color:  #000000;\n",
       "        }    #T_258776c6_da89_11e9_a6a8_04d3b084c91arow4_col1 {\n",
       "            background-color:  #89b1d4;\n",
       "            color:  #000000;\n",
       "        }    #T_258776c6_da89_11e9_a6a8_04d3b084c91arow4_col2 {\n",
       "            background-color:  #fbf3f9;\n",
       "            color:  #000000;\n",
       "        }    #T_258776c6_da89_11e9_a6a8_04d3b084c91arow4_col3 {\n",
       "            background-color:  #03466e;\n",
       "            color:  #f1f1f1;\n",
       "        }    #T_258776c6_da89_11e9_a6a8_04d3b084c91arow4_col4 {\n",
       "            background-color:  #023858;\n",
       "            color:  #f1f1f1;\n",
       "        }    #T_258776c6_da89_11e9_a6a8_04d3b084c91arow4_col5 {\n",
       "            background-color:  #045280;\n",
       "            color:  #f1f1f1;\n",
       "        }    #T_258776c6_da89_11e9_a6a8_04d3b084c91arow4_col6 {\n",
       "            background-color:  #023c5f;\n",
       "            color:  #f1f1f1;\n",
       "        }    #T_258776c6_da89_11e9_a6a8_04d3b084c91arow4_col7 {\n",
       "            background-color:  #f0eaf4;\n",
       "            color:  #000000;\n",
       "        }    #T_258776c6_da89_11e9_a6a8_04d3b084c91arow4_col8 {\n",
       "            background-color:  #e2dfee;\n",
       "            color:  #000000;\n",
       "        }    #T_258776c6_da89_11e9_a6a8_04d3b084c91arow5_col0 {\n",
       "            background-color:  #63a2cb;\n",
       "            color:  #000000;\n",
       "        }    #T_258776c6_da89_11e9_a6a8_04d3b084c91arow5_col1 {\n",
       "            background-color:  #93b5d6;\n",
       "            color:  #000000;\n",
       "        }    #T_258776c6_da89_11e9_a6a8_04d3b084c91arow5_col2 {\n",
       "            background-color:  #f8f1f8;\n",
       "            color:  #000000;\n",
       "        }    #T_258776c6_da89_11e9_a6a8_04d3b084c91arow5_col3 {\n",
       "            background-color:  #045483;\n",
       "            color:  #f1f1f1;\n",
       "        }    #T_258776c6_da89_11e9_a6a8_04d3b084c91arow5_col4 {\n",
       "            background-color:  #045280;\n",
       "            color:  #f1f1f1;\n",
       "        }    #T_258776c6_da89_11e9_a6a8_04d3b084c91arow5_col5 {\n",
       "            background-color:  #023858;\n",
       "            color:  #f1f1f1;\n",
       "        }    #T_258776c6_da89_11e9_a6a8_04d3b084c91arow5_col6 {\n",
       "            background-color:  #034b76;\n",
       "            color:  #f1f1f1;\n",
       "        }    #T_258776c6_da89_11e9_a6a8_04d3b084c91arow5_col7 {\n",
       "            background-color:  #eee9f3;\n",
       "            color:  #000000;\n",
       "        }    #T_258776c6_da89_11e9_a6a8_04d3b084c91arow5_col8 {\n",
       "            background-color:  #f0eaf4;\n",
       "            color:  #000000;\n",
       "        }    #T_258776c6_da89_11e9_a6a8_04d3b084c91arow6_col0 {\n",
       "            background-color:  #6fa7ce;\n",
       "            color:  #000000;\n",
       "        }    #T_258776c6_da89_11e9_a6a8_04d3b084c91arow6_col1 {\n",
       "            background-color:  #8bb2d4;\n",
       "            color:  #000000;\n",
       "        }    #T_258776c6_da89_11e9_a6a8_04d3b084c91arow6_col2 {\n",
       "            background-color:  #f9f2f8;\n",
       "            color:  #000000;\n",
       "        }    #T_258776c6_da89_11e9_a6a8_04d3b084c91arow6_col3 {\n",
       "            background-color:  #034871;\n",
       "            color:  #f1f1f1;\n",
       "        }    #T_258776c6_da89_11e9_a6a8_04d3b084c91arow6_col4 {\n",
       "            background-color:  #023c5f;\n",
       "            color:  #f1f1f1;\n",
       "        }    #T_258776c6_da89_11e9_a6a8_04d3b084c91arow6_col5 {\n",
       "            background-color:  #034b76;\n",
       "            color:  #f1f1f1;\n",
       "        }    #T_258776c6_da89_11e9_a6a8_04d3b084c91arow6_col6 {\n",
       "            background-color:  #023858;\n",
       "            color:  #f1f1f1;\n",
       "        }    #T_258776c6_da89_11e9_a6a8_04d3b084c91arow6_col7 {\n",
       "            background-color:  #ede8f3;\n",
       "            color:  #000000;\n",
       "        }    #T_258776c6_da89_11e9_a6a8_04d3b084c91arow6_col8 {\n",
       "            background-color:  #e0dded;\n",
       "            color:  #000000;\n",
       "        }    #T_258776c6_da89_11e9_a6a8_04d3b084c91arow7_col0 {\n",
       "            background-color:  #80aed2;\n",
       "            color:  #000000;\n",
       "        }    #T_258776c6_da89_11e9_a6a8_04d3b084c91arow7_col1 {\n",
       "            background-color:  #8cb3d5;\n",
       "            color:  #000000;\n",
       "        }    #T_258776c6_da89_11e9_a6a8_04d3b084c91arow7_col2 {\n",
       "            background-color:  #e0deed;\n",
       "            color:  #000000;\n",
       "        }    #T_258776c6_da89_11e9_a6a8_04d3b084c91arow7_col3 {\n",
       "            background-color:  #97b7d7;\n",
       "            color:  #000000;\n",
       "        }    #T_258776c6_da89_11e9_a6a8_04d3b084c91arow7_col4 {\n",
       "            background-color:  #d3d4e7;\n",
       "            color:  #000000;\n",
       "        }    #T_258776c6_da89_11e9_a6a8_04d3b084c91arow7_col5 {\n",
       "            background-color:  #d4d4e8;\n",
       "            color:  #000000;\n",
       "        }    #T_258776c6_da89_11e9_a6a8_04d3b084c91arow7_col6 {\n",
       "            background-color:  #d2d2e7;\n",
       "            color:  #000000;\n",
       "        }    #T_258776c6_da89_11e9_a6a8_04d3b084c91arow7_col7 {\n",
       "            background-color:  #023858;\n",
       "            color:  #f1f1f1;\n",
       "        }    #T_258776c6_da89_11e9_a6a8_04d3b084c91arow7_col8 {\n",
       "            background-color:  #0d75b3;\n",
       "            color:  #f1f1f1;\n",
       "        }    #T_258776c6_da89_11e9_a6a8_04d3b084c91arow8_col0 {\n",
       "            background-color:  #86b0d3;\n",
       "            color:  #000000;\n",
       "        }    #T_258776c6_da89_11e9_a6a8_04d3b084c91arow8_col1 {\n",
       "            background-color:  #9ab8d8;\n",
       "            color:  #000000;\n",
       "        }    #T_258776c6_da89_11e9_a6a8_04d3b084c91arow8_col2 {\n",
       "            background-color:  #b1c2de;\n",
       "            color:  #000000;\n",
       "        }    #T_258776c6_da89_11e9_a6a8_04d3b084c91arow8_col3 {\n",
       "            background-color:  #a9bfdc;\n",
       "            color:  #000000;\n",
       "        }    #T_258776c6_da89_11e9_a6a8_04d3b084c91arow8_col4 {\n",
       "            background-color:  #c6cce3;\n",
       "            color:  #000000;\n",
       "        }    #T_258776c6_da89_11e9_a6a8_04d3b084c91arow8_col5 {\n",
       "            background-color:  #d9d8ea;\n",
       "            color:  #000000;\n",
       "        }    #T_258776c6_da89_11e9_a6a8_04d3b084c91arow8_col6 {\n",
       "            background-color:  #c5cce3;\n",
       "            color:  #000000;\n",
       "        }    #T_258776c6_da89_11e9_a6a8_04d3b084c91arow8_col7 {\n",
       "            background-color:  #1077b4;\n",
       "            color:  #f1f1f1;\n",
       "        }    #T_258776c6_da89_11e9_a6a8_04d3b084c91arow8_col8 {\n",
       "            background-color:  #023858;\n",
       "            color:  #f1f1f1;\n",
       "        }</style><table id=\"T_258776c6_da89_11e9_a6a8_04d3b084c91a\" ><thead>    <tr>        <th class=\"blank level0\" ></th>        <th class=\"col_heading level0 col0\" >longitude</th>        <th class=\"col_heading level0 col1\" >latitude</th>        <th class=\"col_heading level0 col2\" >housing_median_age</th>        <th class=\"col_heading level0 col3\" >total_rooms</th>        <th class=\"col_heading level0 col4\" >total_bedrooms</th>        <th class=\"col_heading level0 col5\" >population</th>        <th class=\"col_heading level0 col6\" >households</th>        <th class=\"col_heading level0 col7\" >median_income</th>        <th class=\"col_heading level0 col8\" >median_house_value</th>    </tr></thead><tbody>\n",
       "                <tr>\n",
       "                        <th id=\"T_258776c6_da89_11e9_a6a8_04d3b084c91alevel0_row0\" class=\"row_heading level0 row0\" >longitude</th>\n",
       "                        <td id=\"T_258776c6_da89_11e9_a6a8_04d3b084c91arow0_col0\" class=\"data row0 col0\" >1</td>\n",
       "                        <td id=\"T_258776c6_da89_11e9_a6a8_04d3b084c91arow0_col1\" class=\"data row0 col1\" >-0.924664</td>\n",
       "                        <td id=\"T_258776c6_da89_11e9_a6a8_04d3b084c91arow0_col2\" class=\"data row0 col2\" >-0.108197</td>\n",
       "                        <td id=\"T_258776c6_da89_11e9_a6a8_04d3b084c91arow0_col3\" class=\"data row0 col3\" >0.044568</td>\n",
       "                        <td id=\"T_258776c6_da89_11e9_a6a8_04d3b084c91arow0_col4\" class=\"data row0 col4\" >0.0692597</td>\n",
       "                        <td id=\"T_258776c6_da89_11e9_a6a8_04d3b084c91arow0_col5\" class=\"data row0 col5\" >0.0997732</td>\n",
       "                        <td id=\"T_258776c6_da89_11e9_a6a8_04d3b084c91arow0_col6\" class=\"data row0 col6\" >0.0553101</td>\n",
       "                        <td id=\"T_258776c6_da89_11e9_a6a8_04d3b084c91arow0_col7\" class=\"data row0 col7\" >-0.0151759</td>\n",
       "                        <td id=\"T_258776c6_da89_11e9_a6a8_04d3b084c91arow0_col8\" class=\"data row0 col8\" >-0.0459666</td>\n",
       "            </tr>\n",
       "            <tr>\n",
       "                        <th id=\"T_258776c6_da89_11e9_a6a8_04d3b084c91alevel0_row1\" class=\"row_heading level0 row1\" >latitude</th>\n",
       "                        <td id=\"T_258776c6_da89_11e9_a6a8_04d3b084c91arow1_col0\" class=\"data row1 col0\" >-0.924664</td>\n",
       "                        <td id=\"T_258776c6_da89_11e9_a6a8_04d3b084c91arow1_col1\" class=\"data row1 col1\" >1</td>\n",
       "                        <td id=\"T_258776c6_da89_11e9_a6a8_04d3b084c91arow1_col2\" class=\"data row1 col2\" >0.0111727</td>\n",
       "                        <td id=\"T_258776c6_da89_11e9_a6a8_04d3b084c91arow1_col3\" class=\"data row1 col3\" >-0.0360996</td>\n",
       "                        <td id=\"T_258776c6_da89_11e9_a6a8_04d3b084c91arow1_col4\" class=\"data row1 col4\" >-0.0666584</td>\n",
       "                        <td id=\"T_258776c6_da89_11e9_a6a8_04d3b084c91arow1_col5\" class=\"data row1 col5\" >-0.108785</td>\n",
       "                        <td id=\"T_258776c6_da89_11e9_a6a8_04d3b084c91arow1_col6\" class=\"data row1 col6\" >-0.0710354</td>\n",
       "                        <td id=\"T_258776c6_da89_11e9_a6a8_04d3b084c91arow1_col7\" class=\"data row1 col7\" >-0.0798091</td>\n",
       "                        <td id=\"T_258776c6_da89_11e9_a6a8_04d3b084c91arow1_col8\" class=\"data row1 col8\" >-0.14416</td>\n",
       "            </tr>\n",
       "            <tr>\n",
       "                        <th id=\"T_258776c6_da89_11e9_a6a8_04d3b084c91alevel0_row2\" class=\"row_heading level0 row2\" >housing_median_age</th>\n",
       "                        <td id=\"T_258776c6_da89_11e9_a6a8_04d3b084c91arow2_col0\" class=\"data row2 col0\" >-0.108197</td>\n",
       "                        <td id=\"T_258776c6_da89_11e9_a6a8_04d3b084c91arow2_col1\" class=\"data row2 col1\" >0.0111727</td>\n",
       "                        <td id=\"T_258776c6_da89_11e9_a6a8_04d3b084c91arow2_col2\" class=\"data row2 col2\" >1</td>\n",
       "                        <td id=\"T_258776c6_da89_11e9_a6a8_04d3b084c91arow2_col3\" class=\"data row2 col3\" >-0.361262</td>\n",
       "                        <td id=\"T_258776c6_da89_11e9_a6a8_04d3b084c91arow2_col4\" class=\"data row2 col4\" >-0.318998</td>\n",
       "                        <td id=\"T_258776c6_da89_11e9_a6a8_04d3b084c91arow2_col5\" class=\"data row2 col5\" >-0.296244</td>\n",
       "                        <td id=\"T_258776c6_da89_11e9_a6a8_04d3b084c91arow2_col6\" class=\"data row2 col6\" >-0.302916</td>\n",
       "                        <td id=\"T_258776c6_da89_11e9_a6a8_04d3b084c91arow2_col7\" class=\"data row2 col7\" >-0.119034</td>\n",
       "                        <td id=\"T_258776c6_da89_11e9_a6a8_04d3b084c91arow2_col8\" class=\"data row2 col8\" >0.105623</td>\n",
       "            </tr>\n",
       "            <tr>\n",
       "                        <th id=\"T_258776c6_da89_11e9_a6a8_04d3b084c91alevel0_row3\" class=\"row_heading level0 row3\" >total_rooms</th>\n",
       "                        <td id=\"T_258776c6_da89_11e9_a6a8_04d3b084c91arow3_col0\" class=\"data row3 col0\" >0.044568</td>\n",
       "                        <td id=\"T_258776c6_da89_11e9_a6a8_04d3b084c91arow3_col1\" class=\"data row3 col1\" >-0.0360996</td>\n",
       "                        <td id=\"T_258776c6_da89_11e9_a6a8_04d3b084c91arow3_col2\" class=\"data row3 col2\" >-0.361262</td>\n",
       "                        <td id=\"T_258776c6_da89_11e9_a6a8_04d3b084c91arow3_col3\" class=\"data row3 col3\" >1</td>\n",
       "                        <td id=\"T_258776c6_da89_11e9_a6a8_04d3b084c91arow3_col4\" class=\"data row3 col4\" >0.927253</td>\n",
       "                        <td id=\"T_258776c6_da89_11e9_a6a8_04d3b084c91arow3_col5\" class=\"data row3 col5\" >0.857126</td>\n",
       "                        <td id=\"T_258776c6_da89_11e9_a6a8_04d3b084c91arow3_col6\" class=\"data row3 col6\" >0.918484</td>\n",
       "                        <td id=\"T_258776c6_da89_11e9_a6a8_04d3b084c91arow3_col7\" class=\"data row3 col7\" >0.19805</td>\n",
       "                        <td id=\"T_258776c6_da89_11e9_a6a8_04d3b084c91arow3_col8\" class=\"data row3 col8\" >0.134153</td>\n",
       "            </tr>\n",
       "            <tr>\n",
       "                        <th id=\"T_258776c6_da89_11e9_a6a8_04d3b084c91alevel0_row4\" class=\"row_heading level0 row4\" >total_bedrooms</th>\n",
       "                        <td id=\"T_258776c6_da89_11e9_a6a8_04d3b084c91arow4_col0\" class=\"data row4 col0\" >0.0692597</td>\n",
       "                        <td id=\"T_258776c6_da89_11e9_a6a8_04d3b084c91arow4_col1\" class=\"data row4 col1\" >-0.0666584</td>\n",
       "                        <td id=\"T_258776c6_da89_11e9_a6a8_04d3b084c91arow4_col2\" class=\"data row4 col2\" >-0.318998</td>\n",
       "                        <td id=\"T_258776c6_da89_11e9_a6a8_04d3b084c91arow4_col3\" class=\"data row4 col3\" >0.927253</td>\n",
       "                        <td id=\"T_258776c6_da89_11e9_a6a8_04d3b084c91arow4_col4\" class=\"data row4 col4\" >1</td>\n",
       "                        <td id=\"T_258776c6_da89_11e9_a6a8_04d3b084c91arow4_col5\" class=\"data row4 col5\" >0.87391</td>\n",
       "                        <td id=\"T_258776c6_da89_11e9_a6a8_04d3b084c91arow4_col6\" class=\"data row4 col6\" >0.974725</td>\n",
       "                        <td id=\"T_258776c6_da89_11e9_a6a8_04d3b084c91arow4_col7\" class=\"data row4 col7\" >-0.00768188</td>\n",
       "                        <td id=\"T_258776c6_da89_11e9_a6a8_04d3b084c91arow4_col8\" class=\"data row4 col8\" >0.0494535</td>\n",
       "            </tr>\n",
       "            <tr>\n",
       "                        <th id=\"T_258776c6_da89_11e9_a6a8_04d3b084c91alevel0_row5\" class=\"row_heading level0 row5\" >population</th>\n",
       "                        <td id=\"T_258776c6_da89_11e9_a6a8_04d3b084c91arow5_col0\" class=\"data row5 col0\" >0.0997732</td>\n",
       "                        <td id=\"T_258776c6_da89_11e9_a6a8_04d3b084c91arow5_col1\" class=\"data row5 col1\" >-0.108785</td>\n",
       "                        <td id=\"T_258776c6_da89_11e9_a6a8_04d3b084c91arow5_col2\" class=\"data row5 col2\" >-0.296244</td>\n",
       "                        <td id=\"T_258776c6_da89_11e9_a6a8_04d3b084c91arow5_col3\" class=\"data row5 col3\" >0.857126</td>\n",
       "                        <td id=\"T_258776c6_da89_11e9_a6a8_04d3b084c91arow5_col4\" class=\"data row5 col4\" >0.87391</td>\n",
       "                        <td id=\"T_258776c6_da89_11e9_a6a8_04d3b084c91arow5_col5\" class=\"data row5 col5\" >1</td>\n",
       "                        <td id=\"T_258776c6_da89_11e9_a6a8_04d3b084c91arow5_col6\" class=\"data row5 col6\" >0.907222</td>\n",
       "                        <td id=\"T_258776c6_da89_11e9_a6a8_04d3b084c91arow5_col7\" class=\"data row5 col7\" >0.00483435</td>\n",
       "                        <td id=\"T_258776c6_da89_11e9_a6a8_04d3b084c91arow5_col8\" class=\"data row5 col8\" >-0.0246497</td>\n",
       "            </tr>\n",
       "            <tr>\n",
       "                        <th id=\"T_258776c6_da89_11e9_a6a8_04d3b084c91alevel0_row6\" class=\"row_heading level0 row6\" >households</th>\n",
       "                        <td id=\"T_258776c6_da89_11e9_a6a8_04d3b084c91arow6_col0\" class=\"data row6 col0\" >0.0553101</td>\n",
       "                        <td id=\"T_258776c6_da89_11e9_a6a8_04d3b084c91arow6_col1\" class=\"data row6 col1\" >-0.0710354</td>\n",
       "                        <td id=\"T_258776c6_da89_11e9_a6a8_04d3b084c91arow6_col2\" class=\"data row6 col2\" >-0.302916</td>\n",
       "                        <td id=\"T_258776c6_da89_11e9_a6a8_04d3b084c91arow6_col3\" class=\"data row6 col3\" >0.918484</td>\n",
       "                        <td id=\"T_258776c6_da89_11e9_a6a8_04d3b084c91arow6_col4\" class=\"data row6 col4\" >0.974725</td>\n",
       "                        <td id=\"T_258776c6_da89_11e9_a6a8_04d3b084c91arow6_col5\" class=\"data row6 col5\" >0.907222</td>\n",
       "                        <td id=\"T_258776c6_da89_11e9_a6a8_04d3b084c91arow6_col6\" class=\"data row6 col6\" >1</td>\n",
       "                        <td id=\"T_258776c6_da89_11e9_a6a8_04d3b084c91arow6_col7\" class=\"data row6 col7\" >0.0130331</td>\n",
       "                        <td id=\"T_258776c6_da89_11e9_a6a8_04d3b084c91arow6_col8\" class=\"data row6 col8\" >0.0658427</td>\n",
       "            </tr>\n",
       "            <tr>\n",
       "                        <th id=\"T_258776c6_da89_11e9_a6a8_04d3b084c91alevel0_row7\" class=\"row_heading level0 row7\" >median_income</th>\n",
       "                        <td id=\"T_258776c6_da89_11e9_a6a8_04d3b084c91arow7_col0\" class=\"data row7 col0\" >-0.0151759</td>\n",
       "                        <td id=\"T_258776c6_da89_11e9_a6a8_04d3b084c91arow7_col1\" class=\"data row7 col1\" >-0.0798091</td>\n",
       "                        <td id=\"T_258776c6_da89_11e9_a6a8_04d3b084c91arow7_col2\" class=\"data row7 col2\" >-0.119034</td>\n",
       "                        <td id=\"T_258776c6_da89_11e9_a6a8_04d3b084c91arow7_col3\" class=\"data row7 col3\" >0.19805</td>\n",
       "                        <td id=\"T_258776c6_da89_11e9_a6a8_04d3b084c91arow7_col4\" class=\"data row7 col4\" >-0.00768188</td>\n",
       "                        <td id=\"T_258776c6_da89_11e9_a6a8_04d3b084c91arow7_col5\" class=\"data row7 col5\" >0.00483435</td>\n",
       "                        <td id=\"T_258776c6_da89_11e9_a6a8_04d3b084c91arow7_col6\" class=\"data row7 col6\" >0.0130331</td>\n",
       "                        <td id=\"T_258776c6_da89_11e9_a6a8_04d3b084c91arow7_col7\" class=\"data row7 col7\" >1</td>\n",
       "                        <td id=\"T_258776c6_da89_11e9_a6a8_04d3b084c91arow7_col8\" class=\"data row7 col8\" >0.688075</td>\n",
       "            </tr>\n",
       "            <tr>\n",
       "                        <th id=\"T_258776c6_da89_11e9_a6a8_04d3b084c91alevel0_row8\" class=\"row_heading level0 row8\" >median_house_value</th>\n",
       "                        <td id=\"T_258776c6_da89_11e9_a6a8_04d3b084c91arow8_col0\" class=\"data row8 col0\" >-0.0459666</td>\n",
       "                        <td id=\"T_258776c6_da89_11e9_a6a8_04d3b084c91arow8_col1\" class=\"data row8 col1\" >-0.14416</td>\n",
       "                        <td id=\"T_258776c6_da89_11e9_a6a8_04d3b084c91arow8_col2\" class=\"data row8 col2\" >0.105623</td>\n",
       "                        <td id=\"T_258776c6_da89_11e9_a6a8_04d3b084c91arow8_col3\" class=\"data row8 col3\" >0.134153</td>\n",
       "                        <td id=\"T_258776c6_da89_11e9_a6a8_04d3b084c91arow8_col4\" class=\"data row8 col4\" >0.0494535</td>\n",
       "                        <td id=\"T_258776c6_da89_11e9_a6a8_04d3b084c91arow8_col5\" class=\"data row8 col5\" >-0.0246497</td>\n",
       "                        <td id=\"T_258776c6_da89_11e9_a6a8_04d3b084c91arow8_col6\" class=\"data row8 col6\" >0.0658427</td>\n",
       "                        <td id=\"T_258776c6_da89_11e9_a6a8_04d3b084c91arow8_col7\" class=\"data row8 col7\" >0.688075</td>\n",
       "                        <td id=\"T_258776c6_da89_11e9_a6a8_04d3b084c91arow8_col8\" class=\"data row8 col8\" >1</td>\n",
       "            </tr>\n",
       "    </tbody></table>"
      ],
      "text/plain": [
       "<pandas.io.formats.style.Styler at 0x1aa73e319b0>"
      ]
     },
     "execution_count": 53,
     "metadata": {},
     "output_type": "execute_result"
    }
   ],
   "source": [
    "corelation  = data.corr()\n",
    "corelation.style.background_gradient()"
   ]
  },
  {
   "cell_type": "code",
   "execution_count": null,
   "metadata": {},
   "outputs": [],
   "source": []
  },
  {
   "cell_type": "code",
   "execution_count": 54,
   "metadata": {},
   "outputs": [
    {
     "name": "stdout",
     "output_type": "stream",
     "text": [
      "<1H OCEAN     9136\n",
      "INLAND        6551\n",
      "NEAR OCEAN    2658\n",
      "NEAR BAY      2290\n",
      "ISLAND           5\n",
      "Name: ocean_proximity, dtype: int64\n"
     ]
    },
    {
     "data": {
      "text/html": [
       "<div>\n",
       "<style scoped>\n",
       "    .dataframe tbody tr th:only-of-type {\n",
       "        vertical-align: middle;\n",
       "    }\n",
       "\n",
       "    .dataframe tbody tr th {\n",
       "        vertical-align: top;\n",
       "    }\n",
       "\n",
       "    .dataframe thead th {\n",
       "        text-align: right;\n",
       "    }\n",
       "</style>\n",
       "<table border=\"1\" class=\"dataframe\">\n",
       "  <thead>\n",
       "    <tr style=\"text-align: right;\">\n",
       "      <th></th>\n",
       "      <th>longitude</th>\n",
       "      <th>latitude</th>\n",
       "      <th>housing_median_age</th>\n",
       "      <th>total_rooms</th>\n",
       "      <th>total_bedrooms</th>\n",
       "      <th>population</th>\n",
       "      <th>households</th>\n",
       "      <th>median_income</th>\n",
       "      <th>ocean_proximity</th>\n",
       "      <th>median_house_value</th>\n",
       "    </tr>\n",
       "  </thead>\n",
       "  <tbody>\n",
       "    <tr>\n",
       "      <th>count</th>\n",
       "      <td>20640.000000</td>\n",
       "      <td>20640.000000</td>\n",
       "      <td>20640.000000</td>\n",
       "      <td>20640.000000</td>\n",
       "      <td>20640.000000</td>\n",
       "      <td>20640.000000</td>\n",
       "      <td>20640.000000</td>\n",
       "      <td>20640.000000</td>\n",
       "      <td>20640.000000</td>\n",
       "      <td>20640.000000</td>\n",
       "    </tr>\n",
       "    <tr>\n",
       "      <th>mean</th>\n",
       "      <td>-119.569704</td>\n",
       "      <td>35.631861</td>\n",
       "      <td>28.639486</td>\n",
       "      <td>2635.763081</td>\n",
       "      <td>537.870553</td>\n",
       "      <td>1425.476744</td>\n",
       "      <td>499.539680</td>\n",
       "      <td>3.870671</td>\n",
       "      <td>1.165843</td>\n",
       "      <td>206855.816909</td>\n",
       "    </tr>\n",
       "    <tr>\n",
       "      <th>std</th>\n",
       "      <td>2.003532</td>\n",
       "      <td>2.135952</td>\n",
       "      <td>12.585558</td>\n",
       "      <td>2181.615252</td>\n",
       "      <td>419.266592</td>\n",
       "      <td>1132.462122</td>\n",
       "      <td>382.329753</td>\n",
       "      <td>1.899822</td>\n",
       "      <td>1.420662</td>\n",
       "      <td>115395.615874</td>\n",
       "    </tr>\n",
       "    <tr>\n",
       "      <th>min</th>\n",
       "      <td>-124.350000</td>\n",
       "      <td>32.540000</td>\n",
       "      <td>1.000000</td>\n",
       "      <td>2.000000</td>\n",
       "      <td>1.000000</td>\n",
       "      <td>3.000000</td>\n",
       "      <td>1.000000</td>\n",
       "      <td>0.499900</td>\n",
       "      <td>0.000000</td>\n",
       "      <td>14999.000000</td>\n",
       "    </tr>\n",
       "    <tr>\n",
       "      <th>25%</th>\n",
       "      <td>-121.800000</td>\n",
       "      <td>33.930000</td>\n",
       "      <td>18.000000</td>\n",
       "      <td>1447.750000</td>\n",
       "      <td>297.000000</td>\n",
       "      <td>787.000000</td>\n",
       "      <td>280.000000</td>\n",
       "      <td>2.563400</td>\n",
       "      <td>0.000000</td>\n",
       "      <td>119600.000000</td>\n",
       "    </tr>\n",
       "    <tr>\n",
       "      <th>50%</th>\n",
       "      <td>-118.490000</td>\n",
       "      <td>34.260000</td>\n",
       "      <td>29.000000</td>\n",
       "      <td>2127.000000</td>\n",
       "      <td>438.000000</td>\n",
       "      <td>1166.000000</td>\n",
       "      <td>409.000000</td>\n",
       "      <td>3.534800</td>\n",
       "      <td>1.000000</td>\n",
       "      <td>179700.000000</td>\n",
       "    </tr>\n",
       "    <tr>\n",
       "      <th>75%</th>\n",
       "      <td>-118.010000</td>\n",
       "      <td>37.710000</td>\n",
       "      <td>37.000000</td>\n",
       "      <td>3148.000000</td>\n",
       "      <td>643.250000</td>\n",
       "      <td>1725.000000</td>\n",
       "      <td>605.000000</td>\n",
       "      <td>4.743250</td>\n",
       "      <td>1.000000</td>\n",
       "      <td>264725.000000</td>\n",
       "    </tr>\n",
       "    <tr>\n",
       "      <th>max</th>\n",
       "      <td>-114.310000</td>\n",
       "      <td>41.950000</td>\n",
       "      <td>52.000000</td>\n",
       "      <td>39320.000000</td>\n",
       "      <td>6445.000000</td>\n",
       "      <td>35682.000000</td>\n",
       "      <td>6082.000000</td>\n",
       "      <td>15.000100</td>\n",
       "      <td>4.000000</td>\n",
       "      <td>500001.000000</td>\n",
       "    </tr>\n",
       "  </tbody>\n",
       "</table>\n",
       "</div>"
      ],
      "text/plain": [
       "          longitude      latitude  housing_median_age   total_rooms  \\\n",
       "count  20640.000000  20640.000000        20640.000000  20640.000000   \n",
       "mean    -119.569704     35.631861           28.639486   2635.763081   \n",
       "std        2.003532      2.135952           12.585558   2181.615252   \n",
       "min     -124.350000     32.540000            1.000000      2.000000   \n",
       "25%     -121.800000     33.930000           18.000000   1447.750000   \n",
       "50%     -118.490000     34.260000           29.000000   2127.000000   \n",
       "75%     -118.010000     37.710000           37.000000   3148.000000   \n",
       "max     -114.310000     41.950000           52.000000  39320.000000   \n",
       "\n",
       "       total_bedrooms    population    households  median_income  \\\n",
       "count    20640.000000  20640.000000  20640.000000   20640.000000   \n",
       "mean       537.870553   1425.476744    499.539680       3.870671   \n",
       "std        419.266592   1132.462122    382.329753       1.899822   \n",
       "min          1.000000      3.000000      1.000000       0.499900   \n",
       "25%        297.000000    787.000000    280.000000       2.563400   \n",
       "50%        438.000000   1166.000000    409.000000       3.534800   \n",
       "75%        643.250000   1725.000000    605.000000       4.743250   \n",
       "max       6445.000000  35682.000000   6082.000000      15.000100   \n",
       "\n",
       "       ocean_proximity  median_house_value  \n",
       "count     20640.000000        20640.000000  \n",
       "mean          1.165843       206855.816909  \n",
       "std           1.420662       115395.615874  \n",
       "min           0.000000        14999.000000  \n",
       "25%           0.000000       119600.000000  \n",
       "50%           1.000000       179700.000000  \n",
       "75%           1.000000       264725.000000  \n",
       "max           4.000000       500001.000000  "
      ]
     },
     "execution_count": 54,
     "metadata": {},
     "output_type": "execute_result"
    }
   ],
   "source": [
    "#Converting categorical column in the dataset to numerical data\n",
    "from sklearn.preprocessing import LabelEncoder\n",
    "labelEncoder = LabelEncoder()\n",
    "print(data[\"ocean_proximity\"].value_counts())\n",
    "data[\"ocean_proximity\"] = labelEncoder.fit_transform(data[\"ocean_proximity\"])\n",
    "data[\"ocean_proximity\"].value_counts()\n",
    "data.describe()"
   ]
  },
  {
   "cell_type": "code",
   "execution_count": 55,
   "metadata": {},
   "outputs": [
    {
     "name": "stdout",
     "output_type": "stream",
     "text": [
      "   housing_median_age  total_rooms  total_bedrooms  population  households  \\\n",
      "0                  41          880           129.0         322         126   \n",
      "1                  21         7099          1106.0        2401        1138   \n",
      "2                  52         1467           190.0         496         177   \n",
      "3                  52         1274           235.0         558         219   \n",
      "4                  52         1627           280.0         565         259   \n",
      "\n",
      "   median_income  ocean_proximity  \n",
      "0         8.3252                3  \n",
      "1         8.3014                3  \n",
      "2         7.2574                3  \n",
      "3         5.6431                3  \n",
      "4         3.8462                3  \n",
      "Medain Housing Values\n",
      "0    452600\n",
      "1    358500\n",
      "2    352100\n",
      "3    341300\n",
      "4    342200\n",
      "Name: median_house_value, dtype: int64\n"
     ]
    }
   ],
   "source": [
    "data_ind = data.drop('median_house_value',axis=1)\n",
    "data_ind=data_ind.drop('longitude',axis=1)\n",
    "data_ind=data_ind.drop('latitude',axis=1)\n",
    "print(data_ind.head())\n",
    "data_dep = data[\"median_house_value\"]\n",
    "print(\"Medain Housing Values\")\n",
    "print(data_dep.head())"
   ]
  },
  {
   "cell_type": "code",
   "execution_count": 56,
   "metadata": {},
   "outputs": [],
   "source": [
    "#Split the data into 80% training dataset and 20% test dataset.\n",
    "from sklearn.model_selection import train_test_split\n",
    "X_train,X_test,y_train,y_test = train_test_split(data_ind,data_dep,test_size=0.2,random_state=42)"
   ]
  },
  {
   "cell_type": "code",
   "execution_count": 57,
   "metadata": {},
   "outputs": [
    {
     "name": "stdout",
     "output_type": "stream",
     "text": [
      "[[ 0.34849025  0.22256942  0.21122752  0.76827628  0.32290591 -0.326196\n",
      "   2.00593172]\n",
      " [ 1.61811813  0.34029326  0.59309419 -0.09890135  0.6720272  -0.03584338\n",
      "   2.00593172]\n",
      " [-1.95271028 -0.34259695 -0.49522582 -0.44981806 -0.43046109  0.14470145\n",
      "   2.00593172]]\n",
      "test data\n",
      "[[-0.30073951 -0.50056608  0.00596058 -0.02654818 -0.3578599  -1.14237625\n",
      "  -0.13376479]\n",
      " [ 0.098724    0.15038025  0.00596058  0.12876364  0.22245041 -0.69050482\n",
      "  -0.13376479]\n",
      " [ 1.85636346  0.55190278  0.00596058 -0.10016419  1.19995088 -0.18616932\n",
      "   1.2571195 ]]\n"
     ]
    },
    {
     "name": "stderr",
     "output_type": "stream",
     "text": [
      "C:\\Users\\yashg\\Anaconda3\\lib\\site-packages\\sklearn\\preprocessing\\data.py:645: DataConversionWarning: Data with input dtype int32, int64, float64 were all converted to float64 by StandardScaler.\n",
      "  return self.partial_fit(X, y)\n",
      "C:\\Users\\yashg\\Anaconda3\\lib\\site-packages\\sklearn\\base.py:464: DataConversionWarning: Data with input dtype int32, int64, float64 were all converted to float64 by StandardScaler.\n",
      "  return self.fit(X, **fit_params).transform(X)\n",
      "C:\\Users\\yashg\\Anaconda3\\lib\\site-packages\\sklearn\\preprocessing\\data.py:645: DataConversionWarning: Data with input dtype int32, int64, float64 were all converted to float64 by StandardScaler.\n",
      "  return self.partial_fit(X, y)\n",
      "C:\\Users\\yashg\\Anaconda3\\lib\\site-packages\\sklearn\\base.py:464: DataConversionWarning: Data with input dtype int32, int64, float64 were all converted to float64 by StandardScaler.\n",
      "  return self.fit(X, **fit_params).transform(X)\n"
     ]
    }
   ],
   "source": [
    "#Standardize training and test datasets\n",
    "from sklearn.preprocessing import StandardScaler\n",
    "independent_scaler = StandardScaler()\n",
    "X_train = independent_scaler.fit_transform(X_train)\n",
    "X_test = independent_scaler.fit_transform(X_test)\n",
    "print(X_train[0:3,:])\n",
    "print(\"test data\")\n",
    "print(X_test[0:3,:])"
   ]
  },
  {
   "cell_type": "code",
   "execution_count": 58,
   "metadata": {},
   "outputs": [
    {
     "data": {
      "text/plain": [
       "LinearRegression(copy_X=True, fit_intercept=True, n_jobs=-1, normalize=False)"
      ]
     },
     "execution_count": 58,
     "metadata": {},
     "output_type": "execute_result"
    }
   ],
   "source": [
    "#linear regression\n",
    "from sklearn.linear_model import LinearRegression\n",
    "linearRegModel = LinearRegression(n_jobs=-1)\n",
    "linearRegModel.fit(X_train,y_train)"
   ]
  },
  {
   "cell_type": "code",
   "execution_count": 59,
   "metadata": {},
   "outputs": [],
   "source": [
    "y_pred = linearRegModel.predict(X_test)"
   ]
  },
  {
   "cell_type": "code",
   "execution_count": 60,
   "metadata": {},
   "outputs": [
    {
     "name": "stdout",
     "output_type": "stream",
     "text": [
      "76883.32739734487\n",
      "75602.23799946297\n"
     ]
    }
   ],
   "source": [
    "from sklearn import metrics\n",
    "print(np.sqrt(metrics.mean_squared_error(y_test,y_pred)))\n",
    "print(np.sqrt(metrics.mean_squared_error(y_train,linearRegModel.predict(X_train))))"
   ]
  },
  {
   "cell_type": "code",
   "execution_count": 69,
   "metadata": {},
   "outputs": [],
   "source": [
    "from sklearn.metrics import accuracy_score\n",
    "from sklearn.metrics import confusion_matrix"
   ]
  },
  {
   "cell_type": "code",
   "execution_count": 71,
   "metadata": {},
   "outputs": [
    {
     "name": "stdout",
     "output_type": "stream",
     "text": [
      "20046     47700\n",
      "3024      45800\n",
      "15663    500001\n",
      "20484    218600\n",
      "9814     278000\n",
      "13311    158700\n",
      "7113     198200\n",
      "7668     157500\n",
      "18246    340000\n",
      "5723     446600\n",
      "20069    123200\n",
      "6835     253900\n",
      "11351    215100\n",
      "20267    220500\n",
      "7097     219800\n",
      "6298     136200\n",
      "696      178400\n",
      "19607    187500\n",
      "14173    139800\n",
      "19638    137500\n",
      "18332    425000\n",
      "4691     405600\n",
      "2323     138800\n",
      "16880    500001\n",
      "14521    162100\n",
      "19833     51400\n",
      "8383     151300\n",
      "2647      94800\n",
      "1456     204100\n",
      "5678     361500\n",
      "          ...  \n",
      "146      273700\n",
      "4989     116400\n",
      "16215     59400\n",
      "241      137000\n",
      "18746    119200\n",
      "3595     244200\n",
      "8404     170000\n",
      "10360    280300\n",
      "5714     285000\n",
      "12401    102600\n",
      "1952     120500\n",
      "15800    361600\n",
      "1594     455300\n",
      "9161     213400\n",
      "8478     158000\n",
      "10087    217000\n",
      "2680      63700\n",
      "844      244300\n",
      "4779     151100\n",
      "11919    110800\n",
      "4653     433800\n",
      "1783      72900\n",
      "7608     108500\n",
      "0        452600\n",
      "10155    467600\n",
      "15362    263300\n",
      "16623    266800\n",
      "18086    500001\n",
      "2144      72300\n",
      "3665     151500\n",
      "Name: median_house_value, Length: 4128, dtype: int64 [101613.38569982 144549.82252728 276370.01954808 ... 431137.575424\n",
      " 167807.57070898 161585.48278441]\n"
     ]
    }
   ],
   "source": [
    "print(y_test,y_pred)"
   ]
  },
  {
   "cell_type": "code",
   "execution_count": null,
   "metadata": {},
   "outputs": [],
   "source": []
  },
  {
   "cell_type": "code",
   "execution_count": 61,
   "metadata": {},
   "outputs": [
    {
     "data": {
      "image/png": "[encoded data removed]",
      "text/plain": [
       "<Figure size 1152x576 with 1 Axes>"
      ]
     },
     "metadata": {
      "needs_background": "light"
     },
     "output_type": "display_data"
    },
    {
     "data": {
      "image/png": "[encoded data removed]",
      "text/plain": [
       "<Figure size 432x432 with 3 Axes>"
      ]
     },
     "metadata": {
      "needs_background": "light"
     },
     "output_type": "display_data"
    }
   ],
   "source": [
    "test = pd.DataFrame({'Predicted':y_pred,'Actual':y_test})\n",
    "fig= plt.figure(figsize=(16,8))\n",
    "test = test.reset_index()\n",
    "test = test.drop(['index'],axis=1)\n",
    "plt.plot(test[:50])\n",
    "plt.legend(['Actual','Predicted'])\n",
    "sns.jointplot(x='Actual',y='Predicted',data=test,kind='reg',);"
   ]
  },
  {
   "cell_type": "code",
   "execution_count": 62,
   "metadata": {},
   "outputs": [
    {
     "data": {
      "text/plain": [
       "DecisionTreeRegressor(criterion='mse', max_depth=9, max_features=None,\n",
       "           max_leaf_nodes=None, min_impurity_decrease=0.0,\n",
       "           min_impurity_split=None, min_samples_leaf=1,\n",
       "           min_samples_split=2, min_weight_fraction_leaf=0.0,\n",
       "           presort=False, random_state=None, splitter='best')"
      ]
     },
     "execution_count": 62,
     "metadata": {},
     "output_type": "execute_result"
    }
   ],
   "source": [
    "#decision tree\n",
    "from sklearn.tree import DecisionTreeRegressor\n",
    "decision_tree =DecisionTreeRegressor(max_depth=9)\n",
    "decision_tree.fit(X_train,y_train)"
   ]
  },
  {
   "cell_type": "code",
   "execution_count": 63,
   "metadata": {},
   "outputs": [
    {
     "data": {
      "text/plain": [
       "array([ 72741.26394052, 103184.98542274, 216000.        , ...,\n",
       "       496145.68421053, 103184.98542274, 172253.38345865])"
      ]
     },
     "execution_count": 63,
     "metadata": {},
     "output_type": "execute_result"
    }
   ],
   "source": [
    "decision_tree_y_pred= decision_tree.predict(X_test)\n",
    "decision_tree_y_pred"
   ]
  },
  {
   "cell_type": "code",
   "execution_count": 64,
   "metadata": {},
   "outputs": [
    {
     "name": "stdout",
     "output_type": "stream",
     "text": [
      "73381.39149377131\n"
     ]
    }
   ],
   "source": [
    "#root mean sqare error\n",
    "print(np.sqrt(metrics.mean_squared_error(y_test,decision_tree_y_pred)))\n"
   ]
  },
  {
   "cell_type": "code",
   "execution_count": 65,
   "metadata": {},
   "outputs": [
    {
     "data": {
      "text/plain": [
       "RandomForestRegressor(bootstrap=True, criterion='mse', max_depth=None,\n",
       "           max_features='auto', max_leaf_nodes=None,\n",
       "           min_impurity_decrease=0.0, min_impurity_split=None,\n",
       "           min_samples_leaf=1, min_samples_split=2,\n",
       "           min_weight_fraction_leaf=0.0, n_estimators=30, n_jobs=None,\n",
       "           oob_score=False, random_state=None, verbose=0, warm_start=False)"
      ]
     },
     "execution_count": 65,
     "metadata": {},
     "output_type": "execute_result"
    }
   ],
   "source": [
    "#random forest\n",
    "from sklearn.ensemble import RandomForestRegressor\n",
    "random_forest= RandomForestRegressor(30)\n",
    "random_forest.fit(X_train,y_train)"
   ]
  },
  {
   "cell_type": "code",
   "execution_count": null,
   "metadata": {},
   "outputs": [],
   "source": [
    "import xgboost\n",
    "\n",
    "model = xgboost.XGBRegressor(colsample_bytree=0.4,\n",
    "                 gamma=0,                 \n",
    "                 learning_rate=0.07,\n",
    "                 max_depth=3,\n",
    "                 min_child_weight=1.5,\n",
    "                 n_estimators=10000,                                                                    \n",
    "                 reg_alpha=0.75,\n",
    "                 reg_lambda=0.45,\n",
    "                 subsample=0.6,\n",
    "                 seed=42) "
   ]
  },
  {
   "cell_type": "code",
   "execution_count": null,
   "metadata": {},
   "outputs": [],
   "source": []
  },
  {
   "cell_type": "code",
   "execution_count": null,
   "metadata": {},
   "outputs": [],
   "source": []
  },
  {
   "cell_type": "code",
   "execution_count": 66,
   "metadata": {},
   "outputs": [],
   "source": [
    "random_forest_y_pred =random_forest.predict(X_test)"
   ]
  },
  {
   "cell_type": "code",
   "execution_count": 67,
   "metadata": {},
   "outputs": [
    {
     "name": "stdout",
     "output_type": "stream",
     "text": [
      "64633.89605377705\n"
     ]
    }
   ],
   "source": [
    "print(np.sqrt(metrics.mean_squared_error(y_test,random_forest_y_pred)))"
   ]
  },
  {
   "cell_type": "code",
   "execution_count": 68,
   "metadata": {},
   "outputs": [
    {
     "name": "stdout",
     "output_type": "stream",
     "text": [
      "['longitude', 'latitude', 'housing_median_age', 'total_rooms', 'total_bedrooms', 'population', 'households', 'ocean_proximity']\n"
     ]
    },
    {
     "ename": "KeyError",
     "evalue": "\"['longitude' 'latitude'] not found in axis\"",
     "output_type": "error",
     "traceback": [
      "\u001b[1;31m---------------------------------------------------------------------------\u001b[0m",
      "\u001b[1;31mKeyError\u001b[0m                                  Traceback (most recent call last)",
      "\u001b[1;32m<ipython-input-68-b0c57b1cb923>\u001b[0m in \u001b[0;36m<module>\u001b[1;34m\u001b[0m\n\u001b[0;32m      3\u001b[0m \u001b[0mdropcol\u001b[0m \u001b[1;33m=\u001b[0m \u001b[1;33m[\u001b[0m\u001b[1;34m\"longitude\"\u001b[0m\u001b[1;33m,\u001b[0m\u001b[1;34m\"latitude\"\u001b[0m\u001b[1;33m,\u001b[0m\u001b[1;34m\"housing_median_age\"\u001b[0m\u001b[1;33m,\u001b[0m\u001b[1;34m\"total_rooms\"\u001b[0m\u001b[1;33m,\u001b[0m\u001b[1;34m\"total_bedrooms\"\u001b[0m\u001b[1;33m,\u001b[0m\u001b[1;34m\"population\"\u001b[0m\u001b[1;33m,\u001b[0m\u001b[1;34m\"households\"\u001b[0m\u001b[1;33m,\u001b[0m\u001b[1;34m\"ocean_proximity\"\u001b[0m\u001b[1;33m]\u001b[0m\u001b[1;33m\u001b[0m\u001b[1;33m\u001b[0m\u001b[0m\n\u001b[0;32m      4\u001b[0m \u001b[0mprint\u001b[0m\u001b[1;33m(\u001b[0m\u001b[0mdropcol\u001b[0m\u001b[1;33m)\u001b[0m\u001b[1;33m\u001b[0m\u001b[1;33m\u001b[0m\u001b[0m\n\u001b[1;32m----> 5\u001b[1;33m \u001b[0mdata_med\u001b[0m \u001b[1;33m=\u001b[0m \u001b[0mdata_ind\u001b[0m\u001b[1;33m.\u001b[0m\u001b[0mdrop\u001b[0m\u001b[1;33m(\u001b[0m\u001b[0mdropcol\u001b[0m\u001b[1;33m,\u001b[0m\u001b[0maxis\u001b[0m\u001b[1;33m=\u001b[0m\u001b[1;36m1\u001b[0m\u001b[1;33m)\u001b[0m\u001b[1;33m\u001b[0m\u001b[1;33m\u001b[0m\u001b[0m\n\u001b[0m\u001b[0;32m      6\u001b[0m \u001b[0mprint\u001b[0m\u001b[1;33m(\u001b[0m\u001b[0mtype\u001b[0m\u001b[1;33m(\u001b[0m\u001b[0mdata_med\u001b[0m\u001b[1;33m)\u001b[0m\u001b[1;33m)\u001b[0m\u001b[1;33m\u001b[0m\u001b[1;33m\u001b[0m\u001b[0m\n",
      "\u001b[1;32m~\\Anaconda3\\lib\\site-packages\\pandas\\core\\frame.py\u001b[0m in \u001b[0;36mdrop\u001b[1;34m(self, labels, axis, index, columns, level, inplace, errors)\u001b[0m\n\u001b[0;32m   3938\u001b[0m                                            \u001b[0mindex\u001b[0m\u001b[1;33m=\u001b[0m\u001b[0mindex\u001b[0m\u001b[1;33m,\u001b[0m \u001b[0mcolumns\u001b[0m\u001b[1;33m=\u001b[0m\u001b[0mcolumns\u001b[0m\u001b[1;33m,\u001b[0m\u001b[1;33m\u001b[0m\u001b[1;33m\u001b[0m\u001b[0m\n\u001b[0;32m   3939\u001b[0m                                            \u001b[0mlevel\u001b[0m\u001b[1;33m=\u001b[0m\u001b[0mlevel\u001b[0m\u001b[1;33m,\u001b[0m \u001b[0minplace\u001b[0m\u001b[1;33m=\u001b[0m\u001b[0minplace\u001b[0m\u001b[1;33m,\u001b[0m\u001b[1;33m\u001b[0m\u001b[1;33m\u001b[0m\u001b[0m\n\u001b[1;32m-> 3940\u001b[1;33m                                            errors=errors)\n\u001b[0m\u001b[0;32m   3941\u001b[0m \u001b[1;33m\u001b[0m\u001b[0m\n\u001b[0;32m   3942\u001b[0m     @rewrite_axis_style_signature('mapper', [('copy', True),\n",
      "\u001b[1;32m~\\Anaconda3\\lib\\site-packages\\pandas\\core\\generic.py\u001b[0m in \u001b[0;36mdrop\u001b[1;34m(self, labels, axis, index, columns, level, inplace, errors)\u001b[0m\n\u001b[0;32m   3778\u001b[0m         \u001b[1;32mfor\u001b[0m \u001b[0maxis\u001b[0m\u001b[1;33m,\u001b[0m \u001b[0mlabels\u001b[0m \u001b[1;32min\u001b[0m \u001b[0maxes\u001b[0m\u001b[1;33m.\u001b[0m\u001b[0mitems\u001b[0m\u001b[1;33m(\u001b[0m\u001b[1;33m)\u001b[0m\u001b[1;33m:\u001b[0m\u001b[1;33m\u001b[0m\u001b[1;33m\u001b[0m\u001b[0m\n\u001b[0;32m   3779\u001b[0m             \u001b[1;32mif\u001b[0m \u001b[0mlabels\u001b[0m \u001b[1;32mis\u001b[0m \u001b[1;32mnot\u001b[0m \u001b[1;32mNone\u001b[0m\u001b[1;33m:\u001b[0m\u001b[1;33m\u001b[0m\u001b[1;33m\u001b[0m\u001b[0m\n\u001b[1;32m-> 3780\u001b[1;33m                 \u001b[0mobj\u001b[0m \u001b[1;33m=\u001b[0m \u001b[0mobj\u001b[0m\u001b[1;33m.\u001b[0m\u001b[0m_drop_axis\u001b[0m\u001b[1;33m(\u001b[0m\u001b[0mlabels\u001b[0m\u001b[1;33m,\u001b[0m \u001b[0maxis\u001b[0m\u001b[1;33m,\u001b[0m \u001b[0mlevel\u001b[0m\u001b[1;33m=\u001b[0m\u001b[0mlevel\u001b[0m\u001b[1;33m,\u001b[0m \u001b[0merrors\u001b[0m\u001b[1;33m=\u001b[0m\u001b[0merrors\u001b[0m\u001b[1;33m)\u001b[0m\u001b[1;33m\u001b[0m\u001b[1;33m\u001b[0m\u001b[0m\n\u001b[0m\u001b[0;32m   3781\u001b[0m \u001b[1;33m\u001b[0m\u001b[0m\n\u001b[0;32m   3782\u001b[0m         \u001b[1;32mif\u001b[0m \u001b[0minplace\u001b[0m\u001b[1;33m:\u001b[0m\u001b[1;33m\u001b[0m\u001b[1;33m\u001b[0m\u001b[0m\n",
      "\u001b[1;32m~\\Anaconda3\\lib\\site-packages\\pandas\\core\\generic.py\u001b[0m in \u001b[0;36m_drop_axis\u001b[1;34m(self, labels, axis, level, errors)\u001b[0m\n\u001b[0;32m   3810\u001b[0m                 \u001b[0mnew_axis\u001b[0m \u001b[1;33m=\u001b[0m \u001b[0maxis\u001b[0m\u001b[1;33m.\u001b[0m\u001b[0mdrop\u001b[0m\u001b[1;33m(\u001b[0m\u001b[0mlabels\u001b[0m\u001b[1;33m,\u001b[0m \u001b[0mlevel\u001b[0m\u001b[1;33m=\u001b[0m\u001b[0mlevel\u001b[0m\u001b[1;33m,\u001b[0m \u001b[0merrors\u001b[0m\u001b[1;33m=\u001b[0m\u001b[0merrors\u001b[0m\u001b[1;33m)\u001b[0m\u001b[1;33m\u001b[0m\u001b[1;33m\u001b[0m\u001b[0m\n\u001b[0;32m   3811\u001b[0m             \u001b[1;32melse\u001b[0m\u001b[1;33m:\u001b[0m\u001b[1;33m\u001b[0m\u001b[1;33m\u001b[0m\u001b[0m\n\u001b[1;32m-> 3812\u001b[1;33m                 \u001b[0mnew_axis\u001b[0m \u001b[1;33m=\u001b[0m \u001b[0maxis\u001b[0m\u001b[1;33m.\u001b[0m\u001b[0mdrop\u001b[0m\u001b[1;33m(\u001b[0m\u001b[0mlabels\u001b[0m\u001b[1;33m,\u001b[0m \u001b[0merrors\u001b[0m\u001b[1;33m=\u001b[0m\u001b[0merrors\u001b[0m\u001b[1;33m)\u001b[0m\u001b[1;33m\u001b[0m\u001b[1;33m\u001b[0m\u001b[0m\n\u001b[0m\u001b[0;32m   3813\u001b[0m             \u001b[0mresult\u001b[0m \u001b[1;33m=\u001b[0m \u001b[0mself\u001b[0m\u001b[1;33m.\u001b[0m\u001b[0mreindex\u001b[0m\u001b[1;33m(\u001b[0m\u001b[1;33m**\u001b[0m\u001b[1;33m{\u001b[0m\u001b[0maxis_name\u001b[0m\u001b[1;33m:\u001b[0m \u001b[0mnew_axis\u001b[0m\u001b[1;33m}\u001b[0m\u001b[1;33m)\u001b[0m\u001b[1;33m\u001b[0m\u001b[1;33m\u001b[0m\u001b[0m\n\u001b[0;32m   3814\u001b[0m \u001b[1;33m\u001b[0m\u001b[0m\n",
      "\u001b[1;32m~\\Anaconda3\\lib\\site-packages\\pandas\\core\\indexes\\base.py\u001b[0m in \u001b[0;36mdrop\u001b[1;34m(self, labels, errors)\u001b[0m\n\u001b[0;32m   4963\u001b[0m             \u001b[1;32mif\u001b[0m \u001b[0merrors\u001b[0m \u001b[1;33m!=\u001b[0m \u001b[1;34m'ignore'\u001b[0m\u001b[1;33m:\u001b[0m\u001b[1;33m\u001b[0m\u001b[1;33m\u001b[0m\u001b[0m\n\u001b[0;32m   4964\u001b[0m                 raise KeyError(\n\u001b[1;32m-> 4965\u001b[1;33m                     '{} not found in axis'.format(labels[mask]))\n\u001b[0m\u001b[0;32m   4966\u001b[0m             \u001b[0mindexer\u001b[0m \u001b[1;33m=\u001b[0m \u001b[0mindexer\u001b[0m\u001b[1;33m[\u001b[0m\u001b[1;33m~\u001b[0m\u001b[0mmask\u001b[0m\u001b[1;33m]\u001b[0m\u001b[1;33m\u001b[0m\u001b[1;33m\u001b[0m\u001b[0m\n\u001b[0;32m   4967\u001b[0m         \u001b[1;32mreturn\u001b[0m \u001b[0mself\u001b[0m\u001b[1;33m.\u001b[0m\u001b[0mdelete\u001b[0m\u001b[1;33m(\u001b[0m\u001b[0mindexer\u001b[0m\u001b[1;33m)\u001b[0m\u001b[1;33m\u001b[0m\u001b[1;33m\u001b[0m\u001b[0m\n",
      "\u001b[1;31mKeyError\u001b[0m: \"['longitude' 'latitude'] not found in axis\""
     ]
    }
   ],
   "source": [
    "#linear regression with one independent variable\n",
    "#Extract median_income \n",
    "dropcol = [\"longitude\",\"latitude\",\"housing_median_age\",\"total_rooms\",\"total_bedrooms\",\"population\",\"households\",\"ocean_proximity\"]\n",
    "print(dropcol)\n",
    "data_med = data_ind.drop(dropcol,axis=1)\n",
    "print(type(data_med))"
   ]
  },
  {
   "cell_type": "code",
   "execution_count": null,
   "metadata": {},
   "outputs": [],
   "source": [
    "X_train2,X_test2,y_train2,y_test2 = train_test_split(data_med,data_dep,test_size=0.2,random_state=42)"
   ]
  },
  {
   "cell_type": "code",
   "execution_count": null,
   "metadata": {},
   "outputs": [],
   "source": [
    "linear_regression_two = LinearRegression()\n",
    "linear_regression_two.fit(X_train2,y_train2)"
   ]
  },
  {
   "cell_type": "code",
   "execution_count": null,
   "metadata": {},
   "outputs": [],
   "source": [
    "y_pred2 = linear_regression_two.predict(X_test2)"
   ]
  },
  {
   "cell_type": "code",
   "execution_count": null,
   "metadata": {},
   "outputs": [],
   "source": [
    "fig = plt.figure(figsize=(25,8))\n",
    "plt.scatter(y_test2,y_pred2,marker=\"o\",edgecolors =\"r\",s=60)\n",
    "plt.scatter(y_train2,linear_regression_two.predict(X_train2),marker=\"+\",s=50,alpha=0.5)\n",
    "plt.xlabel(\" Actual median_house_value\")\n",
    "plt.ylabel(\" Predicted median_house_value\")"
   ]
  },
  {
   "cell_type": "code",
   "execution_count": null,
   "metadata": {},
   "outputs": [],
   "source": []
  }
 ],
 "metadata": {
  "kernelspec": {
   "display_name": "Python 3",
   "language": "python",
   "name": "python3"
  },
  "language_info": {
   "codemirror_mode": {
    "name": "ipython",
    "version": 3
   },
   "file_extension": ".py",
   "mimetype": "text/x-python",
   "name": "python",
   "nbconvert_exporter": "python",
   "pygments_lexer": "ipython3",
   "version": "3.7.3"
  }
 },
 "nbformat": 4,
 "nbformat_minor": 2
}
